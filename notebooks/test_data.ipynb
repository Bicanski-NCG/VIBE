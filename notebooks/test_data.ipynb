{
 "cells": [
  {
   "cell_type": "code",
   "execution_count": 1,
   "id": "f1d20f65",
   "metadata": {
    "tags": []
   },
   "outputs": [],
   "source": [
    "import h5py as h5\n",
    "import numpy as np\n",
    "import re\n",
    "import torch\n",
    "\n",
    "from algonauts.data import FMRI_Dataset\n",
    "from algonauts.utils.utils import collect_predictions\n",
    "from algonauts.utils.viz import plot_glass_brain, load_and_label_atlas, voxelwise_pearsonr\n"
   ]
  },
  {
   "cell_type": "code",
   "execution_count": 2,
   "id": "697fe295",
   "metadata": {
    "tags": []
   },
   "outputs": [],
   "source": [
    "feature_paths = {\n",
    "    \"aud_last\": \"../data/features/Omni/Qwen2.5_3B/features_tr1.49_len8_before6/aud_last\", #torch.Size([102, 1280])\n",
    "    \"aud_ln_post\": \"../data/features/Omni/Qwen2.5_3B/features_tr1.49_len8_before6/audio_ln_post\", #torch.Size([102, 1280])\n",
    "    \"conv3d_features\": \"../data/features/Omni/Qwen2.5_3B/features_tr1.49_len8_before6/conv3d_features\", #torch.Size([3536, 1280])\n",
    "}\n",
    "\n",
    "input_dims = {\n",
    "    \"aud_last\": 1280 * 2,\n",
    "}\n",
    "\n",
    "modality_keys = list(input_dims.keys())"
   ]
  },
  {
   "cell_type": "code",
   "execution_count": 3,
   "id": "97f3aec9",
   "metadata": {
    "tags": []
   },
   "outputs": [
    {
     "data": {
      "text/plain": [
       "136"
      ]
     },
     "execution_count": 3,
     "metadata": {},
     "output_type": "execute_result"
    }
   ],
   "source": [
    "ds = FMRI_Dataset(\n",
    "    \"../data/raw/fmri\",\n",
    "    input_dims=input_dims,\n",
    "    modalities=modality_keys,\n",
    "    feature_paths=feature_paths,\n",
    "    normalize_bold=False\n",
    ")\n",
    "filter_fn = lambda sample: sample[\"name\"] in [\"life\", 'figures']\n",
    "ds.filter_samples(filter_fn)\n",
    "len(ds)"
   ]
  },
  {
   "cell_type": "code",
   "execution_count": 4,
   "id": "46faae79",
   "metadata": {
    "tags": []
   },
   "outputs": [
    {
     "data": {
      "text/plain": [
       "dict_keys(['sub-01', 'sub-02', 'sub-03', 'sub-05'])"
      ]
     },
     "execution_count": 4,
     "metadata": {},
     "output_type": "execute_result"
    }
   ],
   "source": [
    "ds.samples[0][\"fmri_file\"]\n",
    "ds.subject_name_id_dict.keys()"
   ]
  },
  {
   "cell_type": "code",
   "execution_count": 5,
   "id": "4860cea4",
   "metadata": {
    "tags": []
   },
   "outputs": [
    {
     "name": "stdout",
     "output_type": "stream",
     "text": [
      "(27484, 1000) (27484, 1000)\n",
      "['ses-006_task-life01_run-1', 'ses-007_task-figures01_run-1', 'ses-006_task-life02_run-1', 'ses-007_task-figures02_run-1', 'ses-007_task-figures03_run-1', 'ses-007_task-life03_run-1', 'ses-007_task-life04_run-1', 'ses-009_task-figures04_run-1', 'ses-007_task-life05_run-1', 'ses-008_task-figures05_run-1', 'ses-008_task-figures06_run-1', 'ses-008_task-figures07_run-1', 'ses-008_task-figures08_run-1', 'ses-008_task-figures09_run-1', 'ses-009_task-figures10_run-1', 'ses-009_task-figures11_run-1', 'ses-009_task-figures12_run-1', 'ses-001_task-life01_run-1', 'ses-002_task-figures01_run-1', 'ses-001_task-life02_run-1', 'ses-002_task-figures02_run-1', 'ses-001_task-life03_run-1', 'ses-002_task-figures03_run-1', 'ses-001_task-life04_run-1', 'ses-002_task-figures04_run-1', 'ses-002_task-figures05_run-1', 'ses-002_task-life05_run-1', 'ses-002_task-figures06_run-1', 'ses-003_task-figures07_run-1', 'ses-003_task-figures08_run-1', 'ses-003_task-figures09_run-1', 'ses-003_task-figures10_run-1', 'ses-003_task-figures11_run-1', 'ses-003_task-figures12_run-1', 'ses-006_task-life01_run-1', 'ses-007_task-figures01_run-1', 'ses-006_task-life02_run-1', 'ses-007_task-figures02_run-1', 'ses-006_task-life03_run-1', 'ses-007_task-figures03_run-1', 'ses-006_task-life04_run-1', 'ses-007_task-figures04_run-1', 'ses-006_task-life05_run-1', 'ses-007_task-figures05_run-1', 'ses-007_task-figures06_run-1', 'ses-009_task-figures07_run-1', 'ses-009_task-figures08_run-1', 'ses-009_task-figures09_run-1', 'ses-010_task-figures10_run-1', 'ses-010_task-figures11_run-1', 'ses-010_task-figures12_run-1', 'ses-001_task-life01_run-1', 'ses-002_task-figures01_run-1', 'ses-001_task-life02_run-1', 'ses-002_task-figures02_run-1', 'ses-001_task-life03_run-1', 'ses-002_task-figures03_run-1', 'ses-001_task-life04_run-1', 'ses-002_task-figures04_run-1', 'ses-001_task-life05_run-1', 'ses-002_task-figures05_run-1', 'ses-003_task-figures06_run-1', 'ses-003_task-figures07_run-1', 'ses-003_task-figures08_run-1', 'ses-003_task-figures09_run-1', 'ses-003_task-figures10_run-1', 'ses-003_task-figures11_run-1', 'ses-003_task-figures12_run-1']\n",
      "['ses-009_task-life01_run-2', 'ses-011_task-figures01_run-2', 'ses-009_task-life02_run-2', 'ses-011_task-figures02_run-2', 'ses-010_task-life03_run-2', 'ses-011_task-figures03_run-2', 'ses-010_task-life04_run-2', 'ses-011_task-figures04_run-2', 'ses-010_task-life05_run-2', 'ses-012_task-figures05_run-2', 'ses-012_task-figures06_run-2', 'ses-012_task-figures07_run-2', 'ses-012_task-figures08_run-2', 'ses-012_task-figures09_run-2', 'ses-012_task-figures10_run-2', 'ses-012_task-figures11_run-2', 'ses-012_task-figures12_run-2', 'ses-009_task-life01_run-2', 'ses-010_task-figures01_run-2', 'ses-009_task-life02_run-2', 'ses-010_task-figures02_run-2', 'ses-009_task-life03_run-2', 'ses-010_task-figures03_run-2', 'ses-009_task-life04_run-2', 'ses-010_task-figures04_run-2', 'ses-009_task-life05_run-2', 'ses-010_task-figures05_run-2', 'ses-011_task-figures06_run-2', 'ses-011_task-figures07_run-2', 'ses-011_task-figures08_run-2', 'ses-011_task-figures09_run-2', 'ses-012_task-figures10_run-2', 'ses-012_task-figures11_run-2', 'ses-012_task-figures12_run-2', 'ses-011_task-life01_run-2', 'ses-012_task-figures01_run-2', 'ses-011_task-life02_run-2', 'ses-012_task-figures02_run-2', 'ses-011_task-life03_run-2', 'ses-012_task-figures03_run-2', 'ses-011_task-life04_run-2', 'ses-012_task-figures04_run-2', 'ses-011_task-life05_run-2', 'ses-012_task-figures05_run-2', 'ses-012_task-figures06_run-2', 'ses-013_task-figures07_run-2', 'ses-013_task-figures08_run-2', 'ses-013_task-figures09_run-2', 'ses-013_task-figures10_run-2', 'ses-013_task-figures11_run-2', 'ses-013_task-figures12_run-2', 'ses-008_task-life01_run-2', 'ses-010_task-figures01_run-2', 'ses-008_task-life02_run-2', 'ses-010_task-figures02_run-2', 'ses-008_task-life03_run-2', 'ses-010_task-figures03_run-2', 'ses-008_task-life04_run-2', 'ses-010_task-figures04_run-2', 'ses-008_task-life05_run-2', 'ses-010_task-figures05_run-2', 'ses-010_task-figures06_run-2', 'ses-010_task-figures07_run-2', 'ses-010_task-figures08_run-2', 'ses-010_task-figures09_run-2', 'ses-010_task-figures10_run-2', 'ses-010_task-figures11_run-2', 'ses-010_task-figures12_run-2']\n"
     ]
    }
   ],
   "source": [
    "\n",
    "\n",
    "sort = lambda lst: sorted(lst, key=lambda s: int(re.search(r\"(figures|life)(\\d+)\", s).group(2)))\n",
    "\n",
    "data_life1 = []\n",
    "order_life1 = []\n",
    "data_life2 = []\n",
    "order_life2 = []\n",
    "for subject in ds.subject_name_id_dict.keys():\n",
    "    with h5.File(f\"../data/raw/fmri/{subject}/func/{subject}_task-movie10_space-MNI152NLin2009cAsym_atlas-Schaefer18_parcel-1000Par7Net_bold.h5\") as f:\n",
    "        keys = list(f.keys())\n",
    "        keys_life = [key for key in keys if \"figures\" in key or \"life\" in key]\n",
    "        keys_life1 = [key for key in keys_life if \"run-1\" in key]\n",
    "        keys_life2 = [key for key in keys_life if \"run-2\" in key]\n",
    "\n",
    "        keys_life1 = sort(keys_life1)\n",
    "        keys_life2 = sort(keys_life2)\n",
    "\n",
    "        for key in keys_life1:\n",
    "            order_life1.append(key)\n",
    "            data_life1.append(f[key][:])\n",
    "        for key in keys_life2:\n",
    "            order_life2.append(key)\n",
    "            data_life2.append(f[key][:])\n",
    "\n",
    "data_life1 = np.concatenate(data_life1, axis=0)\n",
    "data_life2 = np.concatenate(data_life2, axis=0)\n",
    "print(data_life1.shape, data_life2.shape)\n",
    "print(order_life1)\n",
    "print(order_life2)"
   ]
  },
  {
   "cell_type": "code",
   "execution_count": 6,
   "id": "bf92bffb",
   "metadata": {
    "tags": []
   },
   "outputs": [],
   "source": [
    "masker = load_and_label_atlas(ds.samples[0][\"subject_atlas\"])\n",
    "r_retest = voxelwise_pearsonr(data_life1, data_life2)"
   ]
  },
  {
   "cell_type": "code",
   "execution_count": 7,
   "id": "203fac90",
   "metadata": {
    "tags": []
   },
   "outputs": [],
   "source": [
    "def collect_predictions_per_sample(loader, model, device):\n",
    "    model.eval()\n",
    "    fmri_true, fmri_pred, meta = [], [], []\n",
    "    sid_map = {v: k for k, v in loader.dataset.subject_name_id_dict.items()}\n",
    "\n",
    "    with torch.no_grad():\n",
    "        for batch in loader:            # batch-size == 1\n",
    "            sid_t  = batch[\"subject_ids\"][0]\n",
    "            run_id = batch[\"run_ids\"][0]\n",
    "            dataset_name = batch[\"dataset_names\"][0]\n",
    "\n",
    "            fmri  = batch[\"fmri\"].to(device)[0]\n",
    "            attn  = batch[\"attention_masks\"].to(device)[0].bool()\n",
    "            feats = {k: batch[k].to(device) for k in loader.dataset.modalities}\n",
    "\n",
    "            pred = model(feats,\n",
    "                         batch[\"subject_ids\"],\n",
    "                         batch[\"run_ids\"],\n",
    "                         batch[\"attention_masks\"].to(device))[0]\n",
    "\n",
    "            fmri_true.append(fmri[attn].cpu().numpy())\n",
    "            fmri_pred.append(pred[attn].cpu().numpy())\n",
    "\n",
    "            sid = sid_map[sid_t]\n",
    "            atlas_path = loader.dataset.samples[0][\"subject_atlas\"].format(subject=sid)\n",
    "\n",
    "            meta.append({\"subject\": sid,\n",
    "                         \"run\": run_id,\n",
    "                         \"atlas_path\": atlas_path,\n",
    "                         \"dataset_name\": dataset_name})\n",
    "\n",
    "    return fmri_true, fmri_pred, meta"
   ]
  },
  {
   "cell_type": "code",
   "execution_count": 50,
   "id": "ba91eac1",
   "metadata": {},
   "outputs": [
    {
     "ename": "RuntimeError",
     "evalue": "Attempting to deserialize object on a CUDA device but torch.cuda.is_available() is False. If you are running on a CPU-only machine, please use torch.load with map_location=torch.device('cpu') to map your storages to the CPU.",
     "output_type": "error",
     "traceback": [
      "\u001b[0;31m---------------------------------------------------------------------------\u001b[0m",
      "\u001b[0;31mRuntimeError\u001b[0m                              Traceback (most recent call last)",
      "Cell \u001b[0;32mIn[50], line 5\u001b[0m\n\u001b[1;32m      2\u001b[0m \u001b[38;5;28;01mfrom\u001b[39;00m\u001b[38;5;250m \u001b[39m\u001b[38;5;21;01malgonauts\u001b[39;00m\u001b[38;5;21;01m.\u001b[39;00m\u001b[38;5;21;01mdata\u001b[39;00m\u001b[38;5;21;01m.\u001b[39;00m\u001b[38;5;21;01mloader\u001b[39;00m\u001b[38;5;250m \u001b[39m\u001b[38;5;28;01mimport\u001b[39;00m get_train_val_loaders\n\u001b[1;32m      3\u001b[0m \u001b[38;5;28;01mfrom\u001b[39;00m\u001b[38;5;250m \u001b[39m\u001b[38;5;21;01malgonauts\u001b[39;00m\u001b[38;5;21;01m.\u001b[39;00m\u001b[38;5;21;01mmodels\u001b[39;00m\u001b[38;5;250m \u001b[39m\u001b[38;5;28;01mimport\u001b[39;00m load_model_from_ckpt\n\u001b[0;32m----> 5\u001b[0m model, config \u001b[38;5;241m=\u001b[39m \u001b[43mload_model_from_ckpt\u001b[49m\u001b[43m(\u001b[49m\n\u001b[1;32m      6\u001b[0m \u001b[43m                \u001b[49m\u001b[43mmodel_ckpt_path\u001b[49m\u001b[38;5;241;43m=\u001b[39;49m\u001b[38;5;124;43m\"\u001b[39;49m\u001b[38;5;124;43m../runs/model1/checkpoints/0ixqflbd/final_model.pt\u001b[39;49m\u001b[38;5;124;43m\"\u001b[39;49m\u001b[43m,\u001b[49m\n\u001b[1;32m      7\u001b[0m \u001b[43m                \u001b[49m\u001b[43mparams_path\u001b[49m\u001b[38;5;241;43m=\u001b[39;49m\u001b[38;5;124;43m\"\u001b[39;49m\u001b[38;5;124;43m../runs/model1/checkpoints/0ixqflbd/config.yaml\u001b[39;49m\u001b[38;5;124;43m\"\u001b[39;49m\u001b[43m,\u001b[49m\n\u001b[1;32m      8\u001b[0m \u001b[43m                \u001b[49m\u001b[43mdevice\u001b[49m\u001b[38;5;241;43m=\u001b[39;49m\u001b[38;5;124;43m\"\u001b[39;49m\u001b[38;5;124;43mcpu\u001b[39;49m\u001b[38;5;124;43m\"\u001b[39;49m\u001b[43m,\u001b[49m\n\u001b[1;32m      9\u001b[0m \u001b[43m            \u001b[49m\u001b[43m)\u001b[49m\n\u001b[1;32m     10\u001b[0m \u001b[38;5;28mprint\u001b[39m(\u001b[38;5;124m\"\u001b[39m\u001b[38;5;124mLoaded model\u001b[39m\u001b[38;5;124m\"\u001b[39m)\n\u001b[1;32m     11\u001b[0m wandb\u001b[38;5;241m.\u001b[39minit(project\u001b[38;5;241m=\u001b[39m\u001b[38;5;124m\"\u001b[39m\u001b[38;5;124mtry\u001b[39m\u001b[38;5;124m\"\u001b[39m, config\u001b[38;5;241m=\u001b[39m\u001b[38;5;28mvars\u001b[39m(config), )\n",
      "File \u001b[0;32m/raven/u/danielcs/algonauts/Algonauts-Decoding/algonauts/models/utils.py:62\u001b[0m, in \u001b[0;36mload_model_from_ckpt\u001b[0;34m(model_ckpt_path, params_path, device)\u001b[0m\n\u001b[1;32m     60\u001b[0m     config\u001b[38;5;241m.\u001b[39mdevice \u001b[38;5;241m=\u001b[39m device\n\u001b[1;32m     61\u001b[0m model  \u001b[38;5;241m=\u001b[39m build_model(config)\n\u001b[0;32m---> 62\u001b[0m state  \u001b[38;5;241m=\u001b[39m \u001b[43mtorch\u001b[49m\u001b[38;5;241;43m.\u001b[39;49m\u001b[43mload\u001b[49m\u001b[43m(\u001b[49m\u001b[43mmodel_ckpt_path\u001b[49m\u001b[43m)\u001b[49m\n\u001b[1;32m     63\u001b[0m model\u001b[38;5;241m.\u001b[39mload_state_dict(state)\n\u001b[1;32m     64\u001b[0m \u001b[38;5;28;01mreturn\u001b[39;00m model, config\n",
      "File \u001b[0;32m~/algonauts/Algonauts-Decoding/.venv/lib/python3.10/site-packages/torch/serialization.py:1516\u001b[0m, in \u001b[0;36mload\u001b[0;34m(f, map_location, pickle_module, weights_only, mmap, **pickle_load_args)\u001b[0m\n\u001b[1;32m   1514\u001b[0m \u001b[38;5;28;01mif\u001b[39;00m weights_only:\n\u001b[1;32m   1515\u001b[0m     \u001b[38;5;28;01mtry\u001b[39;00m:\n\u001b[0;32m-> 1516\u001b[0m         \u001b[38;5;28;01mreturn\u001b[39;00m \u001b[43m_load\u001b[49m\u001b[43m(\u001b[49m\n\u001b[1;32m   1517\u001b[0m \u001b[43m            \u001b[49m\u001b[43mopened_zipfile\u001b[49m\u001b[43m,\u001b[49m\n\u001b[1;32m   1518\u001b[0m \u001b[43m            \u001b[49m\u001b[43mmap_location\u001b[49m\u001b[43m,\u001b[49m\n\u001b[1;32m   1519\u001b[0m \u001b[43m            \u001b[49m\u001b[43m_weights_only_unpickler\u001b[49m\u001b[43m,\u001b[49m\n\u001b[1;32m   1520\u001b[0m \u001b[43m            \u001b[49m\u001b[43moverall_storage\u001b[49m\u001b[38;5;241;43m=\u001b[39;49m\u001b[43moverall_storage\u001b[49m\u001b[43m,\u001b[49m\n\u001b[1;32m   1521\u001b[0m \u001b[43m            \u001b[49m\u001b[38;5;241;43m*\u001b[39;49m\u001b[38;5;241;43m*\u001b[39;49m\u001b[43mpickle_load_args\u001b[49m\u001b[43m,\u001b[49m\n\u001b[1;32m   1522\u001b[0m \u001b[43m        \u001b[49m\u001b[43m)\u001b[49m\n\u001b[1;32m   1523\u001b[0m     \u001b[38;5;28;01mexcept\u001b[39;00m pickle\u001b[38;5;241m.\u001b[39mUnpicklingError \u001b[38;5;28;01mas\u001b[39;00m e:\n\u001b[1;32m   1524\u001b[0m         \u001b[38;5;28;01mraise\u001b[39;00m pickle\u001b[38;5;241m.\u001b[39mUnpicklingError(_get_wo_message(\u001b[38;5;28mstr\u001b[39m(e))) \u001b[38;5;28;01mfrom\u001b[39;00m\u001b[38;5;250m \u001b[39m\u001b[38;5;28;01mNone\u001b[39;00m\n",
      "File \u001b[0;32m~/algonauts/Algonauts-Decoding/.venv/lib/python3.10/site-packages/torch/serialization.py:2114\u001b[0m, in \u001b[0;36m_load\u001b[0;34m(zip_file, map_location, pickle_module, pickle_file, overall_storage, **pickle_load_args)\u001b[0m\n\u001b[1;32m   2112\u001b[0m \u001b[38;5;28;01mglobal\u001b[39;00m _serialization_tls\n\u001b[1;32m   2113\u001b[0m _serialization_tls\u001b[38;5;241m.\u001b[39mmap_location \u001b[38;5;241m=\u001b[39m map_location\n\u001b[0;32m-> 2114\u001b[0m result \u001b[38;5;241m=\u001b[39m \u001b[43munpickler\u001b[49m\u001b[38;5;241;43m.\u001b[39;49m\u001b[43mload\u001b[49m\u001b[43m(\u001b[49m\u001b[43m)\u001b[49m\n\u001b[1;32m   2115\u001b[0m _serialization_tls\u001b[38;5;241m.\u001b[39mmap_location \u001b[38;5;241m=\u001b[39m \u001b[38;5;28;01mNone\u001b[39;00m\n\u001b[1;32m   2117\u001b[0m torch\u001b[38;5;241m.\u001b[39m_utils\u001b[38;5;241m.\u001b[39m_validate_loaded_sparse_tensors()\n",
      "File \u001b[0;32m~/algonauts/Algonauts-Decoding/.venv/lib/python3.10/site-packages/torch/_weights_only_unpickler.py:532\u001b[0m, in \u001b[0;36mUnpickler.load\u001b[0;34m(self)\u001b[0m\n\u001b[1;32m    524\u001b[0m     \u001b[38;5;28;01mif\u001b[39;00m (\n\u001b[1;32m    525\u001b[0m         \u001b[38;5;28mtype\u001b[39m(pid) \u001b[38;5;129;01mis\u001b[39;00m \u001b[38;5;28mtuple\u001b[39m\n\u001b[1;32m    526\u001b[0m         \u001b[38;5;129;01mand\u001b[39;00m \u001b[38;5;28mlen\u001b[39m(pid) \u001b[38;5;241m>\u001b[39m \u001b[38;5;241m0\u001b[39m\n\u001b[1;32m    527\u001b[0m         \u001b[38;5;129;01mand\u001b[39;00m torch\u001b[38;5;241m.\u001b[39mserialization\u001b[38;5;241m.\u001b[39m_maybe_decode_ascii(pid[\u001b[38;5;241m0\u001b[39m]) \u001b[38;5;241m!=\u001b[39m \u001b[38;5;124m\"\u001b[39m\u001b[38;5;124mstorage\u001b[39m\u001b[38;5;124m\"\u001b[39m\n\u001b[1;32m    528\u001b[0m     ):\n\u001b[1;32m    529\u001b[0m         \u001b[38;5;28;01mraise\u001b[39;00m UnpicklingError(\n\u001b[1;32m    530\u001b[0m             \u001b[38;5;124mf\u001b[39m\u001b[38;5;124m\"\u001b[39m\u001b[38;5;124mOnly persistent_load of storage is allowed, but got \u001b[39m\u001b[38;5;132;01m{\u001b[39;00mpid[\u001b[38;5;241m0\u001b[39m]\u001b[38;5;132;01m}\u001b[39;00m\u001b[38;5;124m\"\u001b[39m\n\u001b[1;32m    531\u001b[0m         )\n\u001b[0;32m--> 532\u001b[0m     \u001b[38;5;28mself\u001b[39m\u001b[38;5;241m.\u001b[39mappend(\u001b[38;5;28;43mself\u001b[39;49m\u001b[38;5;241;43m.\u001b[39;49m\u001b[43mpersistent_load\u001b[49m\u001b[43m(\u001b[49m\u001b[43mpid\u001b[49m\u001b[43m)\u001b[49m)\n\u001b[1;32m    533\u001b[0m \u001b[38;5;28;01melif\u001b[39;00m key[\u001b[38;5;241m0\u001b[39m] \u001b[38;5;129;01min\u001b[39;00m [BINGET[\u001b[38;5;241m0\u001b[39m], LONG_BINGET[\u001b[38;5;241m0\u001b[39m]]:\n\u001b[1;32m    534\u001b[0m     idx \u001b[38;5;241m=\u001b[39m (read(\u001b[38;5;241m1\u001b[39m) \u001b[38;5;28;01mif\u001b[39;00m key[\u001b[38;5;241m0\u001b[39m] \u001b[38;5;241m==\u001b[39m BINGET[\u001b[38;5;241m0\u001b[39m] \u001b[38;5;28;01melse\u001b[39;00m unpack(\u001b[38;5;124m\"\u001b[39m\u001b[38;5;124m<I\u001b[39m\u001b[38;5;124m\"\u001b[39m, read(\u001b[38;5;241m4\u001b[39m)))[\u001b[38;5;241m0\u001b[39m]\n",
      "File \u001b[0;32m~/algonauts/Algonauts-Decoding/.venv/lib/python3.10/site-packages/torch/serialization.py:2078\u001b[0m, in \u001b[0;36m_load.<locals>.persistent_load\u001b[0;34m(saved_id)\u001b[0m\n\u001b[1;32m   2076\u001b[0m \u001b[38;5;28;01melse\u001b[39;00m:\n\u001b[1;32m   2077\u001b[0m     nbytes \u001b[38;5;241m=\u001b[39m numel \u001b[38;5;241m*\u001b[39m torch\u001b[38;5;241m.\u001b[39m_utils\u001b[38;5;241m.\u001b[39m_element_size(dtype)\n\u001b[0;32m-> 2078\u001b[0m     typed_storage \u001b[38;5;241m=\u001b[39m \u001b[43mload_tensor\u001b[49m\u001b[43m(\u001b[49m\n\u001b[1;32m   2079\u001b[0m \u001b[43m        \u001b[49m\u001b[43mdtype\u001b[49m\u001b[43m,\u001b[49m\u001b[43m \u001b[49m\u001b[43mnbytes\u001b[49m\u001b[43m,\u001b[49m\u001b[43m \u001b[49m\u001b[43mkey\u001b[49m\u001b[43m,\u001b[49m\u001b[43m \u001b[49m\u001b[43m_maybe_decode_ascii\u001b[49m\u001b[43m(\u001b[49m\u001b[43mlocation\u001b[49m\u001b[43m)\u001b[49m\n\u001b[1;32m   2080\u001b[0m \u001b[43m    \u001b[49m\u001b[43m)\u001b[49m\n\u001b[1;32m   2082\u001b[0m \u001b[38;5;28;01mreturn\u001b[39;00m typed_storage\n",
      "File \u001b[0;32m~/algonauts/Algonauts-Decoding/.venv/lib/python3.10/site-packages/torch/serialization.py:2044\u001b[0m, in \u001b[0;36m_load.<locals>.load_tensor\u001b[0;34m(dtype, numel, key, location)\u001b[0m\n\u001b[1;32m   2040\u001b[0m \u001b[38;5;66;03m# TODO: Once we decide to break serialization FC, we can\u001b[39;00m\n\u001b[1;32m   2041\u001b[0m \u001b[38;5;66;03m# stop wrapping with TypedStorage\u001b[39;00m\n\u001b[1;32m   2043\u001b[0m \u001b[38;5;28;01mif\u001b[39;00m torch\u001b[38;5;241m.\u001b[39m_guards\u001b[38;5;241m.\u001b[39mdetect_fake_mode(\u001b[38;5;28;01mNone\u001b[39;00m) \u001b[38;5;129;01mis\u001b[39;00m \u001b[38;5;28;01mNone\u001b[39;00m:\n\u001b[0;32m-> 2044\u001b[0m     wrap_storage \u001b[38;5;241m=\u001b[39m \u001b[43mrestore_location\u001b[49m\u001b[43m(\u001b[49m\u001b[43mstorage\u001b[49m\u001b[43m,\u001b[49m\u001b[43m \u001b[49m\u001b[43mlocation\u001b[49m\u001b[43m)\u001b[49m\n\u001b[1;32m   2045\u001b[0m \u001b[38;5;28;01melse\u001b[39;00m:\n\u001b[1;32m   2046\u001b[0m     storage\u001b[38;5;241m.\u001b[39m_fake_device \u001b[38;5;241m=\u001b[39m location\n",
      "File \u001b[0;32m~/algonauts/Algonauts-Decoding/.venv/lib/python3.10/site-packages/torch/serialization.py:698\u001b[0m, in \u001b[0;36mdefault_restore_location\u001b[0;34m(storage, location)\u001b[0m\n\u001b[1;32m    678\u001b[0m \u001b[38;5;250m\u001b[39m\u001b[38;5;124;03m\"\"\"\u001b[39;00m\n\u001b[1;32m    679\u001b[0m \u001b[38;5;124;03mRestores `storage` using a deserializer function registered for the `location`.\u001b[39;00m\n\u001b[1;32m    680\u001b[0m \n\u001b[0;32m   (...)\u001b[0m\n\u001b[1;32m    695\u001b[0m \u001b[38;5;124;03m       all matching ones return `None`.\u001b[39;00m\n\u001b[1;32m    696\u001b[0m \u001b[38;5;124;03m\"\"\"\u001b[39;00m\n\u001b[1;32m    697\u001b[0m \u001b[38;5;28;01mfor\u001b[39;00m _, _, fn \u001b[38;5;129;01min\u001b[39;00m _package_registry:\n\u001b[0;32m--> 698\u001b[0m     result \u001b[38;5;241m=\u001b[39m \u001b[43mfn\u001b[49m\u001b[43m(\u001b[49m\u001b[43mstorage\u001b[49m\u001b[43m,\u001b[49m\u001b[43m \u001b[49m\u001b[43mlocation\u001b[49m\u001b[43m)\u001b[49m\n\u001b[1;32m    699\u001b[0m     \u001b[38;5;28;01mif\u001b[39;00m result \u001b[38;5;129;01mis\u001b[39;00m \u001b[38;5;129;01mnot\u001b[39;00m \u001b[38;5;28;01mNone\u001b[39;00m:\n\u001b[1;32m    700\u001b[0m         \u001b[38;5;28;01mreturn\u001b[39;00m result\n",
      "File \u001b[0;32m~/algonauts/Algonauts-Decoding/.venv/lib/python3.10/site-packages/torch/serialization.py:636\u001b[0m, in \u001b[0;36m_deserialize\u001b[0;34m(backend_name, obj, location)\u001b[0m\n\u001b[1;32m    634\u001b[0m     backend_name \u001b[38;5;241m=\u001b[39m torch\u001b[38;5;241m.\u001b[39m_C\u001b[38;5;241m.\u001b[39m_get_privateuse1_backend_name()\n\u001b[1;32m    635\u001b[0m \u001b[38;5;28;01mif\u001b[39;00m location\u001b[38;5;241m.\u001b[39mstartswith(backend_name):\n\u001b[0;32m--> 636\u001b[0m     device \u001b[38;5;241m=\u001b[39m \u001b[43m_validate_device\u001b[49m\u001b[43m(\u001b[49m\u001b[43mlocation\u001b[49m\u001b[43m,\u001b[49m\u001b[43m \u001b[49m\u001b[43mbackend_name\u001b[49m\u001b[43m)\u001b[49m\n\u001b[1;32m    637\u001b[0m     \u001b[38;5;28;01mreturn\u001b[39;00m obj\u001b[38;5;241m.\u001b[39mto(device\u001b[38;5;241m=\u001b[39mdevice)\n",
      "File \u001b[0;32m~/algonauts/Algonauts-Decoding/.venv/lib/python3.10/site-packages/torch/serialization.py:605\u001b[0m, in \u001b[0;36m_validate_device\u001b[0;34m(location, backend_name)\u001b[0m\n\u001b[1;32m    603\u001b[0m     device_index \u001b[38;5;241m=\u001b[39m device\u001b[38;5;241m.\u001b[39mindex \u001b[38;5;28;01mif\u001b[39;00m device\u001b[38;5;241m.\u001b[39mindex \u001b[38;5;28;01melse\u001b[39;00m \u001b[38;5;241m0\u001b[39m\n\u001b[1;32m    604\u001b[0m \u001b[38;5;28;01mif\u001b[39;00m \u001b[38;5;28mhasattr\u001b[39m(device_module, \u001b[38;5;124m\"\u001b[39m\u001b[38;5;124mis_available\u001b[39m\u001b[38;5;124m\"\u001b[39m) \u001b[38;5;129;01mand\u001b[39;00m \u001b[38;5;129;01mnot\u001b[39;00m device_module\u001b[38;5;241m.\u001b[39mis_available():\n\u001b[0;32m--> 605\u001b[0m     \u001b[38;5;28;01mraise\u001b[39;00m \u001b[38;5;167;01mRuntimeError\u001b[39;00m(\n\u001b[1;32m    606\u001b[0m         \u001b[38;5;124mf\u001b[39m\u001b[38;5;124m\"\u001b[39m\u001b[38;5;124mAttempting to deserialize object on a \u001b[39m\u001b[38;5;132;01m{\u001b[39;00mbackend_name\u001b[38;5;241m.\u001b[39mupper()\u001b[38;5;132;01m}\u001b[39;00m\u001b[38;5;124m \u001b[39m\u001b[38;5;124m\"\u001b[39m\n\u001b[1;32m    607\u001b[0m         \u001b[38;5;124mf\u001b[39m\u001b[38;5;124m\"\u001b[39m\u001b[38;5;124mdevice but torch.\u001b[39m\u001b[38;5;132;01m{\u001b[39;00mbackend_name\u001b[38;5;132;01m}\u001b[39;00m\u001b[38;5;124m.is_available() is False. \u001b[39m\u001b[38;5;124m\"\u001b[39m\n\u001b[1;32m    608\u001b[0m         \u001b[38;5;124m\"\u001b[39m\u001b[38;5;124mIf you are running on a CPU-only machine, \u001b[39m\u001b[38;5;124m\"\u001b[39m\n\u001b[1;32m    609\u001b[0m         \u001b[38;5;124m\"\u001b[39m\u001b[38;5;124mplease use torch.load with map_location=torch.device(\u001b[39m\u001b[38;5;124m'\u001b[39m\u001b[38;5;124mcpu\u001b[39m\u001b[38;5;124m'\u001b[39m\u001b[38;5;124m) \u001b[39m\u001b[38;5;124m\"\u001b[39m\n\u001b[1;32m    610\u001b[0m         \u001b[38;5;124m\"\u001b[39m\u001b[38;5;124mto map your storages to the CPU.\u001b[39m\u001b[38;5;124m\"\u001b[39m\n\u001b[1;32m    611\u001b[0m     )\n\u001b[1;32m    612\u001b[0m \u001b[38;5;28;01mif\u001b[39;00m \u001b[38;5;28mhasattr\u001b[39m(device_module, \u001b[38;5;124m\"\u001b[39m\u001b[38;5;124mdevice_count\u001b[39m\u001b[38;5;124m\"\u001b[39m):\n\u001b[1;32m    613\u001b[0m     device_count \u001b[38;5;241m=\u001b[39m device_module\u001b[38;5;241m.\u001b[39mdevice_count()\n",
      "\u001b[0;31mRuntimeError\u001b[0m: Attempting to deserialize object on a CUDA device but torch.cuda.is_available() is False. If you are running on a CPU-only machine, please use torch.load with map_location=torch.device('cpu') to map your storages to the CPU."
     ]
    }
   ],
   "source": [
    "import wandb\n",
    "from algonauts.data.loader import get_train_val_loaders\n",
    "from algonauts.models import load_model_from_ckpt\n",
    "\n",
    "model, config = load_model_from_ckpt(\n",
    "                model_ckpt_path=\"../runs/model1/checkpoints/0ixqflbd/final_model.pt\",\n",
    "                params_path=\"../runs/model1/checkpoints/0ixqflbd/config.yaml\",\n",
    "                device=\"cuda\",\n",
    "            )\n",
    "print(\"Loaded model\")\n",
    "wandb.init(project=\"try\", config=vars(config), )\n",
    "\n",
    "model.to(\"cuda\")\n",
    "config.val_name = \"life\"\n",
    "config.filter_name = []\n",
    "config.batch_size = 1\n",
    "train_loader, valid_loader = get_train_val_loaders(config)\n",
    "print(len(train_loader), len(valid_loader))\n",
    "print(\"Loaded data\")\n",
    "out_dir=\"many/Figures\"\n",
    "\n",
    "fmri_true, fmri_pred, meta = collect_predictions_per_sample(\n",
    "    valid_loader, model, device=\"cuda\"\n",
    ")\n",
    "\n",
    "r = voxelwise_pearsonr(fmri_true, fmri_pred)"
   ]
  },
  {
   "cell_type": "code",
   "execution_count": null,
   "id": "a4070528",
   "metadata": {},
   "outputs": [],
   "source": [
    "plot_glass_brain(r_retest, \"test_retest\", masker, filename=\"test_retest\")\n",
    "plot_glass_brain(r, \"model\", masker, filename=\"model\")"
   ]
  }
 ],
 "metadata": {
  "kernelspec": {
   "display_name": "algonauts (3.10.0)",
   "language": "python",
   "name": "python3"
  },
  "language_info": {
   "codemirror_mode": {
    "name": "ipython",
    "version": 3
   },
   "file_extension": ".py",
   "mimetype": "text/x-python",
   "name": "python",
   "nbconvert_exporter": "python",
   "pygments_lexer": "ipython3",
   "version": "3.10.0"
  }
 },
 "nbformat": 4,
 "nbformat_minor": 5
}
