{
 "cells": [
  {
   "cell_type": "code",
   "execution_count": 37,
   "id": "1702859a",
   "metadata": {
    "tags": []
   },
   "outputs": [],
   "source": [
    "import pandas as pd\n",
    "from transformers import AutoModelForCausalLM, AutoTokenizer\n",
    "import torch\n",
    "from logging import warn\n",
    "import re\n",
    "import numpy as np"
   ]
  },
  {
   "cell_type": "code",
   "execution_count": 42,
   "id": "c892b9f7-e517-40f6-a373-e625d9a264d4",
   "metadata": {
    "tags": []
   },
   "outputs": [
    {
     "data": {
      "application/vnd.jupyter.widget-view+json": {
       "model_id": "00ee718e9a7f46e9bbb9ee6e18cffe4e",
       "version_major": 2,
       "version_minor": 0
      },
      "text/plain": [
       "Loading checkpoint shards:   0%|          | 0/8 [00:00<?, ?it/s]"
      ]
     },
     "metadata": {},
     "output_type": "display_data"
    }
   ],
   "source": [
    "# === LOAD MODEL ===\n",
    "model_name = \"Qwen/Qwen2.5-14B-Instruct\"\n",
    "model = AutoModelForCausalLM.from_pretrained(\n",
    "    model_name,\n",
    "    torch_dtype=\"auto\",\n",
    "    device_map=\"auto\"\n",
    ")\n",
    "tokenizer = AutoTokenizer.from_pretrained(model_name)"
   ]
  },
  {
   "cell_type": "code",
   "execution_count": 51,
   "id": "75621926-bf65-429a-a4c3-17143233706c",
   "metadata": {
    "tags": []
   },
   "outputs": [],
   "source": [
    "# === LOAD AND CLEAN TEXT ===\n",
    "csv_path = \"../data/raw/stimuli/transcripts/movie10/bourne/movie10_bourne01.tsv\"\n",
    "column_name = \"text_per_tr\"\n",
    "df = pd.read_csv(csv_path, sep=\"\\t\").iloc[:50]\n",
    "tr_lines = [\" \" if pd.isna(t) else str(t).strip() for t in df[column_name]]  # cleaned TRs\n",
    "joined_input = \"\\n\".join(tr_lines)  # use newline to protect separators from being merged"
   ]
  },
  {
   "cell_type": "code",
   "execution_count": 52,
   "id": "88fb3c76",
   "metadata": {
    "tags": []
   },
   "outputs": [],
   "source": [
    "# === BUILD PROMPT ===\n",
    "messages = [\n",
    "    {\n",
    "        \"role\": \"system\",\n",
    "        \"content\": (\n",
    "            \"You are Qwen, a helpful multilingual assistant. \"\n",
    "            \"You translate English transcripts into French, preserving structure and formatting exactly.\"\n",
    "        )\n",
    "    },\n",
    "    {\n",
    "        \"role\": \"user\",\n",
    "        \"content\": (\n",
    "            \"You are translating fMRI experiment transcripts from English to French.\\n\"\n",
    "            \"- Each line represents a 1.49-second temporal resolution (TR).\\n\"\n",
    "            \"- Translate **each line separately** and preserve the **exact number and order of lines**.\\n\"\n",
    "            \"- Leave empty lines empty.\\n\"\n",
    "            \"- Do not add or remove lines.\\n\\n\"\n",
    "            \"Here is the transcript:\\n\"\n",
    "            \"\\n\\n\\n\\n\\n\\n\"\n",
    "            \"This is not a drill, soldier.\\n\"\n",
    "            \"It's not a drill,\\n\"\n",
    "            \"soldier. We clear on\\n\"\n",
    "            \"that?\\n\"\n",
    "            \"This is a\\n\"\n",
    "            \"live project.\\n\"\n",
    "            \"You're a go.\\n\"\n",
    "            \"\\n\"\n",
    "            \"Training is over.\\n\"\n",
    "            \"\\n\"\n",
    "            \"\\n\"\n",
    "            \"Translate to French:\"\n",
    "        )\n",
    "    },\n",
    "    {\n",
    "        \"role\": \"assistant\",\n",
    "        \"content\": (\n",
    "            \"\\n\\n\\n\\n\\n\\n\"\n",
    "            \"Ceci n'est pas une simulation, soldat.\\n\"\n",
    "            \"Ce n'est pas une simulation,\\n\"\n",
    "            \"soldat. C'est clair ?\\n\"\n",
    "            \"Tu comprends ?\\n\"\n",
    "            \"C'est un\\n\"\n",
    "            \"projet réel.\\n\"\n",
    "            \"Tu as le feu vert.\\n\"\n",
    "            \"\\n\"\n",
    "            \"La formation est terminée.\\n\"\n",
    "            \"\\n\"\n",
    "            \"\\n\"\n",
    "        )\n",
    "    },\n",
    "    {\n",
    "        \"role\": \"user\",\n",
    "        \"content\": (\n",
    "            \"Now translate the following English transcript into French, following the same rules.\\n\"\n",
    "            \"Each line is one TR. Preserve line breaks exactly. Do not add or remove any lines.\\n\"\n",
    "            \"Here is the transcript:\\n\"\n",
    "            f\"{joined_input}\"\n",
    "        )\n",
    "    }\n",
    "]"
   ]
  },
  {
   "cell_type": "code",
   "execution_count": null,
   "id": "b4a053fb",
   "metadata": {
    "tags": []
   },
   "outputs": [
    {
     "name": "stderr",
     "output_type": "stream",
     "text": [
      "The following generation flags are not valid and may be ignored: ['temperature', 'top_p', 'top_k']. Set `TRANSFORMERS_VERBOSITY=info` for more details.\n"
     ]
    }
   ],
   "source": [
    "# === TOKENIZE & GENERATE ===\n",
    "text = tokenizer.apply_chat_template(messages, tokenize=False, add_generation_prompt=True)\n",
    "model_inputs = tokenizer([text], return_tensors=\"pt\").to(model.device)\n",
    "\n",
    "generated_ids = model.generate(\n",
    "    **model_inputs,\n",
    "    max_new_tokens=2000,\n",
    "    do_sample=False,\n",
    ")\n",
    "\n",
    "# === EXTRACT RESPONSE ===\n",
    "generated_ids = [\n",
    "    output_ids[len(input_ids):] for input_ids, output_ids in zip(model_inputs.input_ids, generated_ids)\n",
    "]\n",
    "response = tokenizer.batch_decode(generated_ids, skip_special_tokens=True)[0]\n",
    "\n",
    "# === POSTPROCESS ===\n",
    "translated_trs = response.strip().split(\"\\n\")\n",
    "\n",
    "# === VALIDATION ===\n",
    "if len(translated_trs) != len(tr_lines):\n",
    "    warn(f\"TR count mismatch: input={len(tr_lines)}, output={len(translated_trs)}\")\n",
    "\n",
    "# === RESTORE TO CSV FORMAT ===\n",
    "df[\"translated_tr\"] = translated_trs"
   ]
  },
  {
   "cell_type": "code",
   "execution_count": null,
   "id": "c583e870-82ed-43ee-a770-7e006d67f1ee",
   "metadata": {
    "tags": []
   },
   "outputs": [],
   "source": [
    "translated_trs"
   ]
  },
  {
   "cell_type": "code",
   "execution_count": null,
   "id": "d9b00d21-0f10-41ba-af84-290e06616be0",
   "metadata": {},
   "outputs": [],
   "source": []
  }
 ],
 "metadata": {
  "kernelspec": {
   "display_name": "UV venv",
   "language": "python",
   "name": "uv_venv"
  },
  "language_info": {
   "codemirror_mode": {
    "name": "ipython",
    "version": 3
   },
   "file_extension": ".py",
   "mimetype": "text/x-python",
   "name": "python",
   "nbconvert_exporter": "python",
   "pygments_lexer": "ipython3",
   "version": "3.10.0"
  }
 },
 "nbformat": 4,
 "nbformat_minor": 5
}
