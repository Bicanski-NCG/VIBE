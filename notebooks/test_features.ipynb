{
 "cells": [
  {
   "cell_type": "code",
   "execution_count": 1,
   "id": "17483813",
   "metadata": {},
   "outputs": [],
   "source": [
    "from utils import load_model_from_ckpt, build_model\n",
    "from pathlib import Path\n",
    "from config import Config\n",
    "import yaml\n",
    "from model import FMRIModel\n",
    "import torch"
   ]
  },
  {
   "cell_type": "code",
   "execution_count": 11,
   "id": "aeb8b5dd",
   "metadata": {},
   "outputs": [
    {
     "data": {
      "text/plain": [
       "True"
      ]
     },
     "execution_count": 11,
     "metadata": {},
     "output_type": "execute_result"
    }
   ],
   "source": [
    "float(torch.rand(1)) < 0.5"
   ]
  },
  {
   "cell_type": "code",
   "execution_count": 44,
   "id": "ce49c0b8",
   "metadata": {},
   "outputs": [
    {
     "name": "stdout",
     "output_type": "stream",
     "text": [
      "Using checkpoint: u8816u7l\n"
     ]
    },
    {
     "data": {
      "text/plain": [
       "FMRIModel(\n",
       "  (encoder): ModalityFusionTransformer(\n",
       "    (projections): ModuleDict(\n",
       "      (aud_last): Sequential(\n",
       "        (0): Linear(in_features=2560, out_features=256, bias=True)\n",
       "      )\n",
       "      (pool_concat): Sequential(\n",
       "        (0): Linear(in_features=9216, out_features=256, bias=True)\n",
       "      )\n",
       "      (slow_res3_act): Sequential(\n",
       "        (0): Linear(in_features=4096, out_features=256, bias=True)\n",
       "      )\n",
       "      (text): Sequential(\n",
       "        (0): Linear(in_features=3584, out_features=256, bias=True)\n",
       "      )\n",
       "      (thinker_36): Sequential(\n",
       "        (0): Linear(in_features=4096, out_features=256, bias=True)\n",
       "      )\n",
       "      (vis_merged): Sequential(\n",
       "        (0): Linear(in_features=4096, out_features=256, bias=True)\n",
       "      )\n",
       "    )\n",
       "    (subject_embeddings): Embedding(5, 256)\n",
       "    (run_embeddings): Embedding(3, 256)\n",
       "    (transformer): TransformerEncoder(\n",
       "      (layers): ModuleList(\n",
       "        (0): TransformerEncoderLayer(\n",
       "          (self_attn): MultiheadAttention(\n",
       "            (out_proj): NonDynamicallyQuantizableLinear(in_features=256, out_features=256, bias=True)\n",
       "          )\n",
       "          (linear1): Linear(in_features=256, out_features=1024, bias=True)\n",
       "          (dropout): Dropout(p=0.3, inplace=False)\n",
       "          (linear2): Linear(in_features=1024, out_features=256, bias=True)\n",
       "          (norm1): LayerNorm((256,), eps=1e-05, elementwise_affine=True)\n",
       "          (norm2): LayerNorm((256,), eps=1e-05, elementwise_affine=True)\n",
       "          (dropout1): Dropout(p=0.3, inplace=False)\n",
       "          (dropout2): Dropout(p=0.3, inplace=False)\n",
       "        )\n",
       "      )\n",
       "    )\n",
       "  )\n",
       "  (predictor): PredictionTransformerRoPE(\n",
       "    (layers): ModuleList(\n",
       "      (0-2): 3 x RoPEEncoderLayer(\n",
       "        (self_attn): RoPEMultiheadAttention(\n",
       "          (q_proj): Linear(in_features=2048, out_features=2048, bias=False)\n",
       "          (k_proj): Linear(in_features=2048, out_features=2048, bias=False)\n",
       "          (v_proj): Linear(in_features=2048, out_features=2048, bias=False)\n",
       "          (out_proj): Linear(in_features=2048, out_features=2048, bias=False)\n",
       "          (rope): RotaryPositionalEmbeddings()\n",
       "          (dropout): Dropout(p=0.3, inplace=False)\n",
       "        )\n",
       "        (norm1): LayerNorm((2048,), eps=1e-05, elementwise_affine=True)\n",
       "        (ff): Sequential(\n",
       "          (0): Linear(in_features=2048, out_features=8192, bias=True)\n",
       "          (1): GELU(approximate='none')\n",
       "          (2): Dropout(p=0.3, inplace=False)\n",
       "          (3): Linear(in_features=8192, out_features=2048, bias=True)\n",
       "        )\n",
       "        (norm2): LayerNorm((2048,), eps=1e-05, elementwise_affine=True)\n",
       "        (dropout): Dropout(p=0.3, inplace=False)\n",
       "      )\n",
       "    )\n",
       "    (output_head): Linear(in_features=2048, out_features=1000, bias=True)\n",
       "  )\n",
       "  (hrf_conv): Identity()\n",
       ")"
      ]
     },
     "execution_count": 44,
     "metadata": {},
     "output_type": "execute_result"
    }
   ],
   "source": [
    "checkpoint = \"u8816u7l\"\n",
    "name = \"name\"\n",
    "if not checkpoint:\n",
    "    raise ValueError(\"Please provide a checkpoint to load.\")\n",
    "print(f\"Using checkpoint: {checkpoint}\")\n",
    "\n",
    "model_ckpt_path = Path(f\"checkpoints/{checkpoint}/final_model.pt\")\n",
    "params_path = Path(f\"checkpoints/{checkpoint}/config.yaml\")\n",
    "\n",
    "with params_path.open(\"r\") as f:\n",
    "    config_dict = yaml.safe_load(f)\n",
    "    config = Config(**config_dict)\n",
    "    \n",
    "feature_paths_new = {name: Path(config.features_dir).absolute() / path for name, path in config.features.items()}\n",
    "\n",
    "model = build_model(config)\n",
    "\n",
    "model.load_state_dict(torch.load(model_ckpt_path, weights_only=False, map_location=torch.device('cpu')), strict=True)\n",
    "model.eval()"
   ]
  },
  {
   "cell_type": "code",
   "execution_count": 45,
   "id": "74557abe",
   "metadata": {},
   "outputs": [
    {
     "data": {
      "text/plain": [
       "FMRIModel(\n",
       "  (encoder): ModalityFusionTransformer(\n",
       "    (projections): ModuleDict(\n",
       "      (aud_last): Sequential(\n",
       "        (0): Linear(in_features=2560, out_features=256, bias=True)\n",
       "      )\n",
       "      (vis_merged): Sequential(\n",
       "        (0): Linear(in_features=4096, out_features=256, bias=True)\n",
       "      )\n",
       "      (thinker_36): Sequential(\n",
       "        (0): Linear(in_features=4096, out_features=256, bias=True)\n",
       "      )\n",
       "      (text): Sequential(\n",
       "        (0): Linear(in_features=3584, out_features=256, bias=True)\n",
       "      )\n",
       "      (pool_concat): Sequential(\n",
       "        (0): Linear(in_features=9216, out_features=256, bias=True)\n",
       "      )\n",
       "      (slow_res3_act): Sequential(\n",
       "        (0): Linear(in_features=4096, out_features=256, bias=True)\n",
       "      )\n",
       "    )\n",
       "    (subject_embeddings): Embedding(5, 256)\n",
       "    (run_embeddings): Embedding(3, 256)\n",
       "    (transformer): TransformerEncoder(\n",
       "      (layers): ModuleList(\n",
       "        (0): TransformerEncoderLayer(\n",
       "          (self_attn): MultiheadAttention(\n",
       "            (out_proj): NonDynamicallyQuantizableLinear(in_features=256, out_features=256, bias=True)\n",
       "          )\n",
       "          (linear1): Linear(in_features=256, out_features=1024, bias=True)\n",
       "          (dropout): Dropout(p=0.3, inplace=False)\n",
       "          (linear2): Linear(in_features=1024, out_features=256, bias=True)\n",
       "          (norm1): LayerNorm((256,), eps=1e-05, elementwise_affine=True)\n",
       "          (norm2): LayerNorm((256,), eps=1e-05, elementwise_affine=True)\n",
       "          (dropout1): Dropout(p=0.3, inplace=False)\n",
       "          (dropout2): Dropout(p=0.3, inplace=False)\n",
       "        )\n",
       "      )\n",
       "    )\n",
       "  )\n",
       "  (predictor): PredictionTransformerRoPE(\n",
       "    (layers): ModuleList(\n",
       "      (0-2): 3 x RoPEEncoderLayer(\n",
       "        (self_attn): RoPEMultiheadAttention(\n",
       "          (q_proj): Linear(in_features=2048, out_features=2048, bias=False)\n",
       "          (k_proj): Linear(in_features=2048, out_features=2048, bias=False)\n",
       "          (v_proj): Linear(in_features=2048, out_features=2048, bias=False)\n",
       "          (out_proj): Linear(in_features=2048, out_features=2048, bias=False)\n",
       "          (rope): RotaryPositionalEmbeddings()\n",
       "          (dropout): Dropout(p=0.3, inplace=False)\n",
       "        )\n",
       "        (norm1): LayerNorm((2048,), eps=1e-05, elementwise_affine=True)\n",
       "        (ff): Sequential(\n",
       "          (0): Linear(in_features=2048, out_features=8192, bias=True)\n",
       "          (1): GELU(approximate='none')\n",
       "          (2): Dropout(p=0.3, inplace=False)\n",
       "          (3): Linear(in_features=8192, out_features=2048, bias=True)\n",
       "        )\n",
       "        (norm2): LayerNorm((2048,), eps=1e-05, elementwise_affine=True)\n",
       "        (dropout): Dropout(p=0.3, inplace=False)\n",
       "      )\n",
       "    )\n",
       "    (output_head): Linear(in_features=2048, out_features=1000, bias=True)\n",
       "  )\n",
       "  (hrf_conv): Identity()\n",
       ")"
      ]
     },
     "execution_count": 45,
     "metadata": {},
     "output_type": "execute_result"
    }
   ],
   "source": [
    "feature_paths_old = {\n",
    "    \"aud_last\": \"features/Omni/Qwen2.5_3B/features_tr1.49_len8_before6/aud_last\", #torch.Size([102, 1280])\n",
    "    \"aud_ln_post\": \"features/Omni/Qwen2.5_3B/features_tr1.49_len8_before6/audio_ln_post\", #torch.Size([102, 1280])\n",
    "    \"conv3d_features\": \"features/Omni/Qwen2.5_3B/features_tr1.49_len8_before6/conv3d_features\", #torch.Size([3536, 1280])\n",
    "    \"vis_block5\": \"features/Omni/Qwen2.5_3B/features_tr1.49_len8_before6/vis_block5\", #torch.Size([3536, 1280])\n",
    "    \"vis_block8\": \"features/Omni/Qwen2.5_3B/features_tr1.49_len8_before6/vis_block8\", #torch.Size([3536, 1280])\n",
    "    \"vis_block12\": \"features/Omni/Qwen2.5_3B/features_tr1.49_len8_before6/vis_block12\", #torch.Size([3536, 1280])\n",
    "    \"vis_merged\": \"features/Omni/Qwen2.5_3B/features_tr1.49_len8_before6/vis_merged\", #torch.Size([884, 2048])\n",
    "    \"thinker_12\": \"features/Omni/Qwen2.5_3B/features_tr1.49_len8_before6/thinker_12\", #torch.Size([1, 984, 2048])\n",
    "    \"thinker_24\": \"features/Omni/Qwen2.5_3B/features_tr1.49_len8_before6/thinker_24\", #torch.Size([1, 984, 2048])\n",
    "    \"thinker_36\": \"features/Omni/Qwen2.5_3B/features_tr1.49_len8_before6/thinker_36\", #torch.Size([1, 984, 2048])\n",
    "    \"text\": \"features/Text/Qwen2.5_7B_Full_tr1.49\",\n",
    "    \"fast_res3_act\": \"features/Visual/SlowFast_R101_tr1.49/fast_res3_act\",\n",
    "    \"fast_stem_act\": \"features/Visual/SlowFast_R101_tr1.49/fast_stem_act\",\n",
    "    \"pool_concat\": \"features/Visual/SlowFast_R101_tr1.49/pool_concat\",\n",
    "    \"slow_res3_act\": \"features/Visual/SlowFast_R101_tr1.49/slow_res3_act\",\n",
    "    \"slow_res5_act\": \"features/Visual/SlowFast_R101_tr1.49/slow_res5_act\",\n",
    "    \"slow_stem_act\": \"features/Visual/SlowFast_R101_tr1.49/slow_stem_act\",\n",
    "    \"audio_long_context\": \"features/Audio/Wave2Vec2/features_chunk1.49_len60_before50\",\n",
    "    # \"audio_mfcc_mono\": \"features/Audio/LowLevel/_chunk1.49_len4.0_before2.0_nmfcc32_nstats4/mono/movies/\",\n",
    "    # \"audio_mfcc_stereo\": \"features/Audio/LowLevel/_chunk1.49_len4.0_before2.0_nmfcc32_nstats4/stereo/movies/\",\n",
    "\n",
    "}\n",
    "\n",
    "feature_paths_old = {name: Path(\"/u/danielcs/algonauts/Algonauts-Decoding\") / path for name, path in feature_paths_old.items()}\n",
    "\n",
    "input_dims_old = {\n",
    "    \"aud_last\": 1280 * 2,\n",
    "    #\"aud_ln_post\": 1280 * 2,\n",
    "    #\"conv3d_features\": 1280 * 2,\n",
    "    #\"vis_block5\": 1280 * 2,\n",
    "    #\"vis_block8\": 1280 * 2,\n",
    "    #\"vis_block12\": 1280 * 2,\n",
    "    \"vis_merged\": 2048 * 2,\n",
    "    #\"thinker_12\": 2048 * 2,\n",
    "   # \"thinker_24\": 2048 * 2,\n",
    "    \"thinker_36\": 2048 * 2,\n",
    "    \"text\": 3584,\n",
    "    #\"fast_res3_act\": 2048,\n",
    "    #\"fast_stem_act\": 1024,\n",
    "    \"pool_concat\": 9216,\n",
    "    \"slow_res3_act\": 4096,\n",
    "    #\"slow_res5_act\": 4096,\n",
    "    #\"slow_stem_act\": 8192,\n",
    "    #\"audio_long_context\": 2048,\n",
    "    # \"audio_mfcc_mono\":int(4*32),\n",
    "    # \"audio_mfcc_stereo\":int(4*32)\n",
    "}\n",
    "\n",
    "\n",
    "model_old = FMRIModel(\n",
    "    input_dims_old, 1000, fusion_hidden_dim=256, fuse_mode=\"concat\", subject_count=4,\n",
    ")\n",
    "\n",
    "model_old.load_state_dict(torch.load(f\"checkpoints/{checkpoint}/final_model.pt\", weights_only=False, map_location=\"cpu\"))\n",
    "model_old.eval()"
   ]
  },
  {
   "cell_type": "code",
   "execution_count": 46,
   "id": "74dc41c0",
   "metadata": {},
   "outputs": [
    {
     "data": {
      "text/plain": [
       "True"
      ]
     },
     "execution_count": 46,
     "metadata": {},
     "output_type": "execute_result"
    }
   ],
   "source": [
    "feature_paths_new == feature_paths_old"
   ]
  },
  {
   "cell_type": "code",
   "execution_count": 47,
   "id": "2012ed7a-9025-49a1-8f8d-7672d07c9c2e",
   "metadata": {},
   "outputs": [
    {
     "data": {
      "text/plain": [
       "False"
      ]
     },
     "execution_count": 47,
     "metadata": {},
     "output_type": "execute_result"
    }
   ],
   "source": [
    "model == model_old"
   ]
  },
  {
   "cell_type": "code",
   "execution_count": 48,
   "id": "a631b407-22ae-476f-a6ab-de7ecb43ad07",
   "metadata": {},
   "outputs": [
    {
     "data": {
      "text/plain": [
       "{'aud_last': 2560,\n",
       " 'pool_concat': 9216,\n",
       " 'slow_res3_act': 4096,\n",
       " 'text': 3584,\n",
       " 'thinker_36': 4096,\n",
       " 'vis_merged': 4096}"
      ]
     },
     "execution_count": 48,
     "metadata": {},
     "output_type": "execute_result"
    }
   ],
   "source": [
    "config.input_dims"
   ]
  },
  {
   "cell_type": "code",
   "execution_count": 49,
   "id": "e48ae18d-4b10-4df9-b97b-974e1b61708d",
   "metadata": {},
   "outputs": [
    {
     "data": {
      "text/plain": [
       "{'aud_last': 2560,\n",
       " 'vis_merged': 4096,\n",
       " 'thinker_36': 4096,\n",
       " 'text': 3584,\n",
       " 'pool_concat': 9216,\n",
       " 'slow_res3_act': 4096}"
      ]
     },
     "execution_count": 49,
     "metadata": {},
     "output_type": "execute_result"
    }
   ],
   "source": [
    "input_dims_old"
   ]
  },
  {
   "cell_type": "code",
   "execution_count": null,
   "id": "f5c0bb71-a4f0-46ef-8b2f-45caeeda13e7",
   "metadata": {},
   "outputs": [],
   "source": []
  }
 ],
 "metadata": {
  "kernelspec": {
   "display_name": ".venv",
   "language": "python",
   "name": "python3"
  },
  "language_info": {
   "codemirror_mode": {
    "name": "ipython",
    "version": 3
   },
   "file_extension": ".py",
   "mimetype": "text/x-python",
   "name": "python",
   "nbconvert_exporter": "python",
   "pygments_lexer": "ipython3",
   "version": "3.10.9"
  }
 },
 "nbformat": 4,
 "nbformat_minor": 5
}
